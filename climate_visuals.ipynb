{
 "cells": [
  {
   "cell_type": "code",
   "execution_count": 6,
   "id": "7b4fddf8-f1ee-4b12-a168-ce64060b88ae",
   "metadata": {},
   "outputs": [
    {
     "name": "stdout",
     "output_type": "stream",
     "text": [
      "                        1960       1961       1962       1963       1964  \\\n",
      "Indicator Name                                                             \n",
      "Population, total  8996967.0  9169406.0  9351442.0  9543200.0  9744772.0   \n",
      "\n",
      "                        1965        1966        1967        1968        1969  \\\n",
      "Indicator Name                                                                 \n",
      "Population, total  9956318.0  10174840.0  10399936.0  10637064.0  10893772.0   \n",
      "\n",
      "                   ...        2011        2012        2013        2014  \\\n",
      "Indicator Name     ...                                                   \n",
      "Population, total  ...  30117411.0  31161378.0  32269592.0  33370804.0   \n",
      "\n",
      "                         2015        2016        2017        2018        2019  \\\n",
      "Indicator Name                                                                  \n",
      "Population, total  34413603.0  35383028.0  36296111.0  37171922.0  38041757.0   \n",
      "\n",
      "                         2020  \n",
      "Indicator Name                 \n",
      "Population, total  38928341.0  \n",
      "\n",
      "[1 rows x 61 columns]\n"
     ]
    },
    {
     "data": {
      "image/png": "[encoded data removed]",
      "text/plain": [
       "<Figure size 1224x576 with 4 Axes>"
      ]
     },
     "metadata": {},
     "output_type": "display_data"
    }
   ],
   "source": [
    "import pandas as pd\n",
    "import seaborn as sns\n",
    "import matplotlib.pyplot as plt\n",
    "\n",
    "# Main DataFrame Name: \"grouped_frame\"\n",
    "\n",
    "grouped_frame = pd.read_csv('grouped_data.csv')\n",
    "\n",
    "grouped_frame.set_index(['Country Name', 'Indicator Name'], inplace = True)\n",
    "grouped_frame.sort_values(by = ['Country Name'], inplace = True)\n",
    "\n",
    "def plot_data(df):\n",
    "    countries = df.index.get_level_values(0).unique().tolist()\n",
    "    \n",
    "    for country in countries:\n",
    "        print(df.loc[country].head(1))\n",
    "        break\n",
    "        \n",
    "    sns.set_style(\"ticks\",{\"xtick.color\": 'black','axes.grid': True})\n",
    "    \n",
    "    fig, axs = plt.subplots(4,figsize = (17,8), gridspec_kw={'height_ratios':[1,.35,.35,.35]}, sharex = True)\n",
    "    \n",
    "    \n",
    "plot_data(grouped_frame)\n",
    "\n"
   ]
  },
  {
   "cell_type": "code",
   "execution_count": null,
   "id": "a554ae26-5856-4bbf-a10a-8721a8dfd60a",
   "metadata": {},
   "outputs": [],
   "source": []
  }
 ],
 "metadata": {
  "kernelspec": {
   "display_name": "Python 3 (ipykernel)",
   "language": "python",
   "name": "python3"
  },
  "language_info": {
   "codemirror_mode": {
    "name": "ipython",
    "version": 3
   },
   "file_extension": ".py",
   "mimetype": "text/x-python",
   "name": "python",
   "nbconvert_exporter": "python",
   "pygments_lexer": "ipython3",
   "version": "3.9.7"
  }
 },
 "nbformat": 4,
 "nbformat_minor": 5
}
