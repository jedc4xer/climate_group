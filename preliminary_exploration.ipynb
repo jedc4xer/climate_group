{
 "cells": [
  {
   "cell_type": "markdown",
   "id": "2a9a3b39-f2d7-460c-9c39-8551bc573442",
   "metadata": {},
   "source": [
    "# Climate Change\n",
    "### Introduction\n",
    "\n",
    "    We were assigned the Climate Change group. After a bit of discussion, \n",
    "    we picked 6 original questions with the expectation that we would need \n",
    "    to remove some of them.\n",
    "    \n",
    "    These are the questions that we picked:\n",
    "        1. How much does forest area impact C02 emissions?\n",
    "        2. How does population growth align with C02 emissions?\n",
    "        3. Does C02 emissons impact mortality rate?\n",
    "        4. Does renewable energy use impact freshwater withdrawals?\n",
    "        5. Does population density or growth impact freshwater withdrawals?\n",
    "        6. Is there a negative correlation between C02 emissions and renewable energy use.\n",
    "    \n",
    "    \n",
    "    These are the datasets: \n",
    "        C02 Emissions (kt)\n",
    "        https://data.worldbank.org/indicator/EN.ATM.CO2E.KT?view=chart\n",
    "        \n",
    "        Annual freshwater withdrawals (internal resources)\n",
    "        https://data.worldbank.org/indicator/ER.H2O.FWTL.ZS?view=chart\n",
    "        \n",
    "        Mortality rate, under-5 (per 1000 live births)\n",
    "        https://data.worldbank.org/indicator/SH.DYN.MORT?view=chart\n",
    "    \n",
    "        Renewable energy consumption (% of total final energy consumption)\n",
    "        https://data.worldbank.org/indicator/EG.FEC.RNEW.ZS?view=chart\n",
    "        \n",
    "        Population (total) - might need to try a different version of this dataset\n",
    "        https://data.worldbank.org/indicator/SP.POP.TOTL?view=chart\n",
    "        \n",
    "        Forest area (% of land area)\n",
    "        https://data.worldbank.org/indicator/AG.LND.FRST.ZS?view=chart"
   ]
  },
  {
   "cell_type": "markdown",
   "id": "3249337f-5889-4185-b5c4-71f72c4b275c",
   "metadata": {},
   "source": [
    "### Extraction\n",
    "    \n",
    "    We downloaded the csv files and then unzipped them from their folders, \n",
    "    and renamed and reorganized the files.\n",
    "    \n",
    "    We then used pandas to import the data into dataframes. \n",
    "     - We had to skip the first 3 rows in each dataset because they were not relevant.\n",
    "    "
   ]
  },
  {
   "cell_type": "markdown",
   "id": "c06af3ca-16ca-4d16-b4c3-6e584416f4b9",
   "metadata": {},
   "source": [
    "#### Extraction Step 1 (Understand the dataset structure)"
   ]
  },
  {
   "cell_type": "code",
   "execution_count": 10,
   "id": "e24fb8ad-d954-4fa5-a8ac-1347ac0aa247",
   "metadata": {},
   "outputs": [
    {
     "name": "stdout",
     "output_type": "stream",
     "text": [
      "Dataset: co2.csv\n",
      "Columns: Country Name, Country Code, Indicator Name, Indicator Code, 1960, 1961, 1962, 1963, 1964, 1965, 1966, 1967, 1968, 1969, 1970, 1971, 1972, 1973, 1974, 1975, 1976, 1977, 1978, 1979, 1980, 1981, 1982, 1983, 1984, 1985, 1986, 1987, 1988, 1989, 1990, 1991, 1992, 1993, 1994, 1995, 1996, 1997, 1998, 1999, 2000, 2001, 2002, 2003, 2004, 2005, 2006, 2007, 2008, 2009, 2010, 2011, 2012, 2013, 2014, 2015, 2016, 2017, 2018, 2019, 2020, Unnamed: 65\n",
      "\n",
      "Dataset: forest_area.csv\n",
      "Columns: Country Name, Country Code, Indicator Name, Indicator Code, 1960, 1961, 1962, 1963, 1964, 1965, 1966, 1967, 1968, 1969, 1970, 1971, 1972, 1973, 1974, 1975, 1976, 1977, 1978, 1979, 1980, 1981, 1982, 1983, 1984, 1985, 1986, 1987, 1988, 1989, 1990, 1991, 1992, 1993, 1994, 1995, 1996, 1997, 1998, 1999, 2000, 2001, 2002, 2003, 2004, 2005, 2006, 2007, 2008, 2009, 2010, 2011, 2012, 2013, 2014, 2015, 2016, 2017, 2018, 2019, 2020, Unnamed: 65\n",
      "\n",
      "Dataset: freshwater.csv\n",
      "Columns: Country Name, Country Code, Indicator Name, Indicator Code, 1960, 1961, 1962, 1963, 1964, 1965, 1966, 1967, 1968, 1969, 1970, 1971, 1972, 1973, 1974, 1975, 1976, 1977, 1978, 1979, 1980, 1981, 1982, 1983, 1984, 1985, 1986, 1987, 1988, 1989, 1990, 1991, 1992, 1993, 1994, 1995, 1996, 1997, 1998, 1999, 2000, 2001, 2002, 2003, 2004, 2005, 2006, 2007, 2008, 2009, 2010, 2011, 2012, 2013, 2014, 2015, 2016, 2017, 2018, 2019, 2020, Unnamed: 65\n",
      "\n",
      "Dataset: mortality_rate_under5.csv\n",
      "Columns: Country Name, Country Code, Indicator Name, Indicator Code, 1960, 1961, 1962, 1963, 1964, 1965, 1966, 1967, 1968, 1969, 1970, 1971, 1972, 1973, 1974, 1975, 1976, 1977, 1978, 1979, 1980, 1981, 1982, 1983, 1984, 1985, 1986, 1987, 1988, 1989, 1990, 1991, 1992, 1993, 1994, 1995, 1996, 1997, 1998, 1999, 2000, 2001, 2002, 2003, 2004, 2005, 2006, 2007, 2008, 2009, 2010, 2011, 2012, 2013, 2014, 2015, 2016, 2017, 2018, 2019, 2020, Unnamed: 65\n",
      "\n",
      "Dataset: renewable_consumption.csv\n",
      "Columns: Country Name, Country Code, Indicator Name, Indicator Code, 1960, 1961, 1962, 1963, 1964, 1965, 1966, 1967, 1968, 1969, 1970, 1971, 1972, 1973, 1974, 1975, 1976, 1977, 1978, 1979, 1980, 1981, 1982, 1983, 1984, 1985, 1986, 1987, 1988, 1989, 1990, 1991, 1992, 1993, 1994, 1995, 1996, 1997, 1998, 1999, 2000, 2001, 2002, 2003, 2004, 2005, 2006, 2007, 2008, 2009, 2010, 2011, 2012, 2013, 2014, 2015, 2016, 2017, 2018, 2019, 2020, Unnamed: 65\n",
      "\n",
      "Dataset: total_population.csv\n",
      "Columns: Country Name, Country Code, Indicator Name, Indicator Code, 1960, 1961, 1962, 1963, 1964, 1965, 1966, 1967, 1968, 1969, 1970, 1971, 1972, 1973, 1974, 1975, 1976, 1977, 1978, 1979, 1980, 1981, 1982, 1983, 1984, 1985, 1986, 1987, 1988, 1989, 1990, 1991, 1992, 1993, 1994, 1995, 1996, 1997, 1998, 1999, 2000, 2001, 2002, 2003, 2004, 2005, 2006, 2007, 2008, 2009, 2010, 2011, 2012, 2013, 2014, 2015, 2016, 2017, 2018, 2019, 2020, Unnamed: 65\n",
      "\n"
     ]
    }
   ],
   "source": [
    "import pandas as pd\n",
    "import os\n",
    "\n",
    "files = [_ for _ in os.listdir('datasets/') if \".csv\" in _]\n",
    "\n",
    "for file in files:\n",
    "    df = pd.read_csv(f'datasets/{file}', skiprows = 3)\n",
    "    print(f'Dataset: {file}')\n",
    "    print('Columns: ' + \", \".join(df.columns))\n",
    "    print(\"\")"
   ]
  },
  {
   "cell_type": "code",
   "execution_count": null,
   "id": "be838bcb-763c-42ee-86e1-d4c84c6e63a3",
   "metadata": {},
   "outputs": [],
   "source": []
  }
 ],
 "metadata": {
  "kernelspec": {
   "display_name": "Python 3 (ipykernel)",
   "language": "python",
   "name": "python3"
  },
  "language_info": {
   "codemirror_mode": {
    "name": "ipython",
    "version": 3
   },
   "file_extension": ".py",
   "mimetype": "text/x-python",
   "name": "python",
   "nbconvert_exporter": "python",
   "pygments_lexer": "ipython3",
   "version": "3.9.7"
  }
 },
 "nbformat": 4,
 "nbformat_minor": 5
}
